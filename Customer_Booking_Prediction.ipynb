{
 "cells": [
  {
   "cell_type": "markdown",
   "id": "4b68d552",
   "metadata": {},
   "source": [
    "# Customer Booking Prediction Model"
   ]
  },
  {
   "cell_type": "markdown",
   "id": "ea9f8165",
   "metadata": {},
   "source": [
    "### Task Overview"
   ]
  },
  {
   "cell_type": "markdown",
   "id": "bcba295b",
   "metadata": {},
   "source": [
    "In this task, we will:\n",
    "1. Explore and prepare the dataset.\n",
    "2. Train a machine learning model to predict customer bookings.\n",
    "3. Evaluate the model's performance.\n",
    "4. Interpret the results and visualize feature importance.\n",
    "5. Summarize findings.\n",
    "        "
   ]
  },
  {
   "cell_type": "code",
   "execution_count": 1,
   "id": "5966f7c8",
   "metadata": {},
   "outputs": [
    {
     "data": {
      "text/plain": [
       "(   num_passengers sales_channel  trip_type  purchase_lead  length_of_stay  \\\n",
       " 0               2      Internet  RoundTrip            262              19   \n",
       " 1               1      Internet  RoundTrip            112              20   \n",
       " 2               2      Internet  RoundTrip            243              22   \n",
       " 3               1      Internet  RoundTrip             96              31   \n",
       " 4               2      Internet  RoundTrip             68              22   \n",
       " \n",
       "    flight_hour flight_day   route booking_origin  wants_extra_baggage  \\\n",
       " 0            7        Sat  AKLDEL    New Zealand                    1   \n",
       " 1            3        Sat  AKLDEL    New Zealand                    0   \n",
       " 2           17        Wed  AKLDEL          India                    1   \n",
       " 3            4        Sat  AKLDEL    New Zealand                    0   \n",
       " 4           15        Wed  AKLDEL          India                    1   \n",
       " \n",
       "    wants_preferred_seat  wants_in_flight_meals  flight_duration  \\\n",
       " 0                     0                      0             5.52   \n",
       " 1                     0                      0             5.52   \n",
       " 2                     1                      0             5.52   \n",
       " 3                     0                      1             5.52   \n",
       " 4                     0                      1             5.52   \n",
       " \n",
       "    booking_complete  \n",
       " 0                 0  \n",
       " 1                 0  \n",
       " 2                 0  \n",
       " 3                 0  \n",
       " 4                 0  ,\n",
       "        num_passengers  purchase_lead  length_of_stay  flight_hour  \\\n",
       " count    50000.000000   50000.000000     50000.00000  50000.00000   \n",
       " mean         1.591240      84.940480        23.04456      9.06634   \n",
       " std          1.020165      90.451378        33.88767      5.41266   \n",
       " min          1.000000       0.000000         0.00000      0.00000   \n",
       " 25%          1.000000      21.000000         5.00000      5.00000   \n",
       " 50%          1.000000      51.000000        17.00000      9.00000   \n",
       " 75%          2.000000     115.000000        28.00000     13.00000   \n",
       " max          9.000000     867.000000       778.00000     23.00000   \n",
       " \n",
       "        wants_extra_baggage  wants_preferred_seat  wants_in_flight_meals  \\\n",
       " count         50000.000000          50000.000000           50000.000000   \n",
       " mean              0.668780              0.296960               0.427140   \n",
       " std               0.470657              0.456923               0.494668   \n",
       " min               0.000000              0.000000               0.000000   \n",
       " 25%               0.000000              0.000000               0.000000   \n",
       " 50%               1.000000              0.000000               0.000000   \n",
       " 75%               1.000000              1.000000               1.000000   \n",
       " max               1.000000              1.000000               1.000000   \n",
       " \n",
       "        flight_duration  booking_complete  \n",
       " count     50000.000000      50000.000000  \n",
       " mean          7.277561          0.149560  \n",
       " std           1.496863          0.356643  \n",
       " min           4.670000          0.000000  \n",
       " 25%           5.620000          0.000000  \n",
       " 50%           7.570000          0.000000  \n",
       " 75%           8.830000          0.000000  \n",
       " max           9.500000          1.000000  )"
      ]
     },
     "execution_count": 1,
     "metadata": {},
     "output_type": "execute_result"
    }
   ],
   "source": [
    "import pandas as pd\n",
    "\n",
    "# Load the dataset\n",
    "file_path = 'C:/Users/jckat/Downloads/Portfolio/Machine learning/customer_booking.csv'\n",
    "data = pd.read_csv(file_path, encoding='ISO-8859-1')\n",
    "\n",
    "# Display the first few rows of the dataset\n",
    "data.head(), data.describe()\n",
    "        "
   ]
  },
  {
   "cell_type": "markdown",
   "id": "51d33c32",
   "metadata": {},
   "source": [
    "### Data Cleaning and Preprocessing"
   ]
  },
  {
   "cell_type": "code",
   "execution_count": 2,
   "id": "4698d273",
   "metadata": {},
   "outputs": [
    {
     "data": {
      "text/plain": [
       "(num_passengers           0\n",
       " sales_channel            0\n",
       " trip_type                0\n",
       " purchase_lead            0\n",
       " length_of_stay           0\n",
       " flight_hour              0\n",
       " flight_day               0\n",
       " route                    0\n",
       " booking_origin           0\n",
       " wants_extra_baggage      0\n",
       " wants_preferred_seat     0\n",
       " wants_in_flight_meals    0\n",
       " flight_duration          0\n",
       " booking_complete         0\n",
       " dtype: int64,\n",
       "    num_passengers  purchase_lead  length_of_stay  flight_hour  \\\n",
       " 0               2            262              19            7   \n",
       " 1               1            112              20            3   \n",
       " 2               2            243              22           17   \n",
       " 3               1             96              31            4   \n",
       " 4               2             68              22           15   \n",
       " \n",
       "    wants_extra_baggage  wants_preferred_seat  wants_in_flight_meals  \\\n",
       " 0                    1                     0                      0   \n",
       " 1                    0                     0                      0   \n",
       " 2                    1                     1                      0   \n",
       " 3                    0                     0                      1   \n",
       " 4                    1                     0                      1   \n",
       " \n",
       "    flight_duration  booking_complete  sales_channel_Mobile  ...  \\\n",
       " 0             5.52                 0                 False  ...   \n",
       " 1             5.52                 0                 False  ...   \n",
       " 2             5.52                 0                 False  ...   \n",
       " 3             5.52                 0                 False  ...   \n",
       " 4             5.52                 0                 False  ...   \n",
       " \n",
       "    booking_origin_Timor-Leste  booking_origin_Tonga  booking_origin_Tunisia  \\\n",
       " 0                       False                 False                   False   \n",
       " 1                       False                 False                   False   \n",
       " 2                       False                 False                   False   \n",
       " 3                       False                 False                   False   \n",
       " 4                       False                 False                   False   \n",
       " \n",
       "    booking_origin_Turkey  booking_origin_Ukraine  \\\n",
       " 0                  False                   False   \n",
       " 1                  False                   False   \n",
       " 2                  False                   False   \n",
       " 3                  False                   False   \n",
       " 4                  False                   False   \n",
       " \n",
       "    booking_origin_United Arab Emirates  booking_origin_United Kingdom  \\\n",
       " 0                                False                          False   \n",
       " 1                                False                          False   \n",
       " 2                                False                          False   \n",
       " 3                                False                          False   \n",
       " 4                                False                          False   \n",
       " \n",
       "    booking_origin_United States  booking_origin_Vanuatu  \\\n",
       " 0                         False                   False   \n",
       " 1                         False                   False   \n",
       " 2                         False                   False   \n",
       " 3                         False                   False   \n",
       " 4                         False                   False   \n",
       " \n",
       "    booking_origin_Vietnam  \n",
       " 0                   False  \n",
       " 1                   False  \n",
       " 2                   False  \n",
       " 3                   False  \n",
       " 4                   False  \n",
       " \n",
       " [5 rows x 919 columns])"
      ]
     },
     "execution_count": 2,
     "metadata": {},
     "output_type": "execute_result"
    }
   ],
   "source": [
    "# Check for missing values\n",
    "missing_values = data.isnull().sum()\n",
    "\n",
    "# Convert categorical variables to numerical using one-hot encoding\n",
    "data_encoded = pd.get_dummies(data, columns=['sales_channel', 'trip_type', 'flight_day', 'route', 'booking_origin'], drop_first=True)\n",
    "\n",
    "# Display the first few rows of the encoded dataset\n",
    "missing_values, data_encoded.head()\n",
    "        "
   ]
  },
  {
   "cell_type": "markdown",
   "id": "ff672ac7",
   "metadata": {},
   "source": [
    "### Model Training"
   ]
  },
  {
   "cell_type": "code",
   "execution_count": 3,
   "id": "df609cc8",
   "metadata": {},
   "outputs": [
    {
     "data": {
      "image/png": "[encoded data removed]",
      "text/plain": [
       "<Figure size 1000x800 with 1 Axes>"
      ]
     },
     "metadata": {},
     "output_type": "display_data"
    },
    {
     "data": {
      "text/plain": [
       "(0.8532666666666666,\n",
       " '              precision    recall  f1-score   support\\n\\n           0       0.87      0.98      0.92     12784\\n           1       0.51      0.13      0.20      2216\\n\\n    accuracy                           0.85     15000\\n   macro avg       0.69      0.55      0.56     15000\\nweighted avg       0.81      0.85      0.81     15000\\n')"
      ]
     },
     "execution_count": 3,
     "metadata": {},
     "output_type": "execute_result"
    }
   ],
   "source": [
    "from sklearn.model_selection import train_test_split\n",
    "from sklearn.ensemble import RandomForestClassifier\n",
    "from sklearn.metrics import classification_report, accuracy_score\n",
    "import matplotlib.pyplot as plt\n",
    "import numpy as np\n",
    "\n",
    "# Define features and target\n",
    "X = data_encoded.drop(columns=['booking_complete'])\n",
    "y = data_encoded['booking_complete']\n",
    "\n",
    "# Split the dataset into training and testing sets\n",
    "X_train, X_test, y_train, y_test = train_test_split(X, y, test_size=0.3, random_state=42)\n",
    "\n",
    "# Train the RandomForest model\n",
    "model = RandomForestClassifier(random_state=42)\n",
    "model.fit(X_train, y_train)\n",
    "\n",
    "# Predict on the test set\n",
    "y_pred = model.predict(X_test)\n",
    "\n",
    "# Evaluate the model\n",
    "accuracy = accuracy_score(y_test, y_pred)\n",
    "report = classification_report(y_test, y_pred)\n",
    "\n",
    "# Feature importance\n",
    "feature_importances = model.feature_importances_\n",
    "indices = np.argsort(feature_importances)[-10:]  # Top 10 features\n",
    "\n",
    "# Plot feature importance\n",
    "plt.figure(figsize=(10, 8))\n",
    "plt.title(\"Feature Importance\")\n",
    "plt.barh(range(len(indices)), feature_importances[indices], align='center')\n",
    "plt.yticks(range(len(indices)), [X.columns[i] for i in indices])\n",
    "plt.xlabel(\"Relative Importance\")\n",
    "plt.show()\n",
    "\n",
    "accuracy, report\n",
    "        "
   ]
  },
  {
   "cell_type": "markdown",
   "id": "57b3d392",
   "metadata": {},
   "source": [
    "### Summarize Findings"
   ]
  },
  {
   "cell_type": "code",
   "execution_count": 4,
   "id": "81396689",
   "metadata": {},
   "outputs": [
    {
     "ename": "ModuleNotFoundError",
     "evalue": "No module named 'pptx'",
     "output_type": "error",
     "traceback": [
      "\u001b[1;31m---------------------------------------------------------------------------\u001b[0m",
      "\u001b[1;31mModuleNotFoundError\u001b[0m                       Traceback (most recent call last)",
      "Cell \u001b[1;32mIn[4], line 9\u001b[0m\n\u001b[0;32m      6\u001b[0m top_importances \u001b[38;5;241m=\u001b[39m feature_importances[indices]\n\u001b[0;32m      8\u001b[0m \u001b[38;5;66;03m# Create a summary slide for PowerPoint\u001b[39;00m\n\u001b[1;32m----> 9\u001b[0m \u001b[38;5;28;01mimport\u001b[39;00m \u001b[38;5;21;01mpptx\u001b[39;00m\n\u001b[0;32m     10\u001b[0m \u001b[38;5;28;01mfrom\u001b[39;00m \u001b[38;5;21;01mpptx\u001b[39;00m\u001b[38;5;21;01m.\u001b[39;00m\u001b[38;5;21;01mutil\u001b[39;00m \u001b[38;5;28;01mimport\u001b[39;00m Inches\n\u001b[0;32m     12\u001b[0m \u001b[38;5;66;03m# Create a presentation object\u001b[39;00m\n",
      "\u001b[1;31mModuleNotFoundError\u001b[0m: No module named 'pptx'"
     ]
    }
   ],
   "source": [
    "import matplotlib.pyplot as plt\n",
    "import numpy as np\n",
    "\n",
    "# Extract the top 10 features and their importance\n",
    "top_features = [X.columns[i] for i in indices]\n",
    "top_importances = feature_importances[indices]\n",
    "\n",
    "# Create a summary slide for PowerPoint\n",
    "import pptx\n",
    "from pptx.util import Inches\n",
    "\n",
    "# Create a presentation object\n",
    "prs = pptx.Presentation()\n",
    "\n",
    "# Add a title slide\n",
    "slide_layout = prs.slide_layouts[0]\n",
    "slide = prs.slides.add_slide(slide_layout)\n",
    "title = slide.shapes.title\n",
    "subtitle = slide.placeholders[1]\n",
    "\n",
    "title.text = \"Customer Booking Prediction Model\"\n",
    "subtitle.text = \"Summary of Findings\"\n",
    "\n",
    "# Add a content slide\n",
    "slide_layout = prs.slide_layouts[1]\n",
    "slide = prs.slides.add_slide(slide_layout)\n",
    "shapes = slide.shapes\n",
    "title_shape = shapes.title\n",
    "body_shape = shapes.placeholders[1]\n",
    "\n",
    "title_shape.text = \"Model Performance and Feature Importance\"\n",
    "\n",
    "tf = body_shape.text_frame\n",
    "tf.text = f\"Model Accuracy: {accuracy * 100:.2f}%\"\n",
    "\n",
    "p = tf.add_paragraph()\n",
    "p.text = \"Classification Report:\"\n",
    "p.level = 1\n",
    "\n",
    "p = tf.add_paragraph()\n",
    "p.text = report\n",
    "p.level = 2\n",
    "\n",
    "# Add a feature importance chart to the slide\n",
    "slide_layout = prs.slide_layouts[5]\n",
    "slide = prs.slides.add_slide(slide_layout)\n",
    "title_shape = slide.shapes.title\n",
    "title_shape.text = \"Feature Importance\"\n",
    "\n",
    "# Plot and save the feature importance chart\n",
    "fig, ax = plt.subplots(figsize=(10, 8))\n",
    "ax.barh(range(len(indices)), top_importances, align='center')\n",
    "ax.set_yticks(range(len(indices)))\n",
    "ax.set_yticklabels(top_features)\n",
    "ax.set_xlabel(\"Relative Importance\")\n",
    "ax.set_title(\"Top 10 Features\")\n",
    "plt.tight_layout()\n",
    "plt.savefig(\"feature_importance.png\")\n",
    "\n",
    "# Add the chart image to the slide\n",
    "slide.shapes.add_picture(\"feature_importance.png\", Inches(1), Inches(2), height=Inches(4.5))\n",
    "\n",
    "# Save the PowerPoint presentation\n",
    "pptx_path = \"Customer_Booking_Prediction_Summary.pptx\"\n",
    "prs.save(pptx_path)\n",
    "\n",
    "pptx_path\n",
    "        "
   ]
  },
  {
   "cell_type": "code",
   "execution_count": null,
   "id": "5a6ecc3f",
   "metadata": {},
   "outputs": [],
   "source": []
  }
 ],
 "metadata": {
  "kernelspec": {
   "display_name": "Python 3",
   "language": "python",
   "name": "python3"
  },
  "language_info": {
   "codemirror_mode": {
    "name": "ipython",
    "version": 3
   },
   "file_extension": ".py",
   "mimetype": "text/x-python",
   "name": "python",
   "nbconvert_exporter": "python",
   "pygments_lexer": "ipython3",
   "version": "3.12.3"
  }
 },
 "nbformat": 4,
 "nbformat_minor": 5
}
